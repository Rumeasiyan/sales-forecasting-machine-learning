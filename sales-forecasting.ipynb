{
 "cells": [
  {
   "cell_type": "markdown",
   "metadata": {},
   "source": [
    "# Machine Learning Techniques for Sales Forecasting"
   ]
  },
  {
   "cell_type": "markdown",
   "metadata": {},
   "source": [
    "## Importing Libraries"
   ]
  },
  {
   "cell_type": "code",
   "execution_count": 230,
   "metadata": {},
   "outputs": [],
   "source": [
    "import numpy as np # linear algebra\n",
    "import pandas as pd # data processing, CSV file I/O (e.g. pd.read_csv)"
   ]
  },
  {
   "cell_type": "markdown",
   "metadata": {},
   "source": [
    "## Importing Datasets & Read all csv files\n",
    "\n",
    "files available at: https://www.kaggle.com/datasets/ndarshan2797/english-converted-datasets\n",
    "\n",
    "01. item_categories.csv - \n",
    "    item_category_name, \n",
    "    item_category_id\n",
    "\n",
    "02. items.csv - \n",
    "    item_name, \n",
    "    item_id, \n",
    "    category_id\n",
    "\n",
    "03. sales_train.csv - \n",
    "    date, \n",
    "    date_block_num, \n",
    "    shop_id, \n",
    "    item_id, \n",
    "    item_price, \n",
    "    item_cnt_day\n",
    "\n",
    "04. shops.csv - \n",
    "    shop_name, \n",
    "    shop_id\n",
    "\n",
    "05. test.csv - \n",
    "    ID, \n",
    "    shop_id, \n",
    "    item_id"
   ]
  },
  {
   "cell_type": "code",
   "execution_count": 231,
   "metadata": {},
   "outputs": [],
   "source": [
    "#importing data\n",
    "\n",
    "item_categories = pd.read_csv('./data-set/item_categories.csv')\n",
    "items = pd.read_csv('./data-set/items.csv')\n",
    "sales_train = pd.read_csv('./data-set/sales_train.csv')\n",
    "shops = pd.read_csv('./data-set/shops.csv')\n",
    "test = pd.read_csv('./data-set/test.csv')"
   ]
  },
  {
   "cell_type": "code",
   "execution_count": 232,
   "metadata": {},
   "outputs": [
    {
     "name": "stdout",
     "output_type": "stream",
     "text": [
      "Shape of item_categories: (84, 2)\n",
      "Shape of items: (22170, 3)\n",
      "Shape of sales_train: (2935849, 6)\n",
      "Shape of shops: (60, 2)\n",
      "Shape of test: (214200, 3)\n"
     ]
    }
   ],
   "source": [
    "#checking the shape of the data\n",
    "print(\"Shape of item_categories:\", item_categories.shape)\n",
    "print(\"Shape of items:\", items.shape)\n",
    "print(\"Shape of sales_train:\", sales_train.shape)\n",
    "print(\"Shape of shops:\", shops.shape)\n",
    "print(\"Shape of test:\", test.shape)"
   ]
  },
  {
   "cell_type": "code",
   "execution_count": 233,
   "metadata": {},
   "outputs": [
    {
     "name": "stdout",
     "output_type": "stream",
     "text": [
      "\n",
      "\n",
      "Columns of item_categories:\n",
      "\n",
      "<class 'pandas.core.frame.DataFrame'>\n",
      "RangeIndex: 84 entries, 0 to 83\n",
      "Data columns (total 2 columns):\n",
      " #   Column              Non-Null Count  Dtype \n",
      "---  ------              --------------  ----- \n",
      " 0   item_category_name  84 non-null     object\n",
      " 1   item_category_id    84 non-null     int64 \n",
      "dtypes: int64(1), object(1)\n",
      "memory usage: 1.4+ KB\n",
      "None\n",
      "-----------------------------------------------------\n",
      "\n",
      "\n",
      "Columns of items:\n",
      "\n",
      "<class 'pandas.core.frame.DataFrame'>\n",
      "RangeIndex: 22170 entries, 0 to 22169\n",
      "Data columns (total 3 columns):\n",
      " #   Column       Non-Null Count  Dtype \n",
      "---  ------       --------------  ----- \n",
      " 0   item_name    22170 non-null  object\n",
      " 1   item_id      22170 non-null  int64 \n",
      " 2   category_id  22170 non-null  int64 \n",
      "dtypes: int64(2), object(1)\n",
      "memory usage: 519.7+ KB\n",
      "None\n",
      "-----------------------------------------------------\n",
      "\n",
      "\n",
      "Columns of sales_train:\n",
      "\n",
      "<class 'pandas.core.frame.DataFrame'>\n",
      "RangeIndex: 2935849 entries, 0 to 2935848\n",
      "Data columns (total 6 columns):\n",
      " #   Column          Dtype  \n",
      "---  ------          -----  \n",
      " 0   date            object \n",
      " 1   date_block_num  int64  \n",
      " 2   shop_id         int64  \n",
      " 3   item_id         int64  \n",
      " 4   item_price      float64\n",
      " 5   item_cnt_day    float64\n",
      "dtypes: float64(2), int64(3), object(1)\n",
      "memory usage: 134.4+ MB\n",
      "None\n",
      "-----------------------------------------------------\n",
      "\n",
      "\n",
      "Columns of shops:\n",
      "\n",
      "<class 'pandas.core.frame.DataFrame'>\n",
      "RangeIndex: 60 entries, 0 to 59\n",
      "Data columns (total 2 columns):\n",
      " #   Column     Non-Null Count  Dtype \n",
      "---  ------     --------------  ----- \n",
      " 0   shop_name  60 non-null     object\n",
      " 1   shop_id    60 non-null     int64 \n",
      "dtypes: int64(1), object(1)\n",
      "memory usage: 1.1+ KB\n",
      "None\n",
      "-----------------------------------------------------\n",
      "\n",
      "\n",
      "Columns of test:\n",
      "\n",
      "<class 'pandas.core.frame.DataFrame'>\n",
      "RangeIndex: 214200 entries, 0 to 214199\n",
      "Data columns (total 3 columns):\n",
      " #   Column   Non-Null Count   Dtype\n",
      "---  ------   --------------   -----\n",
      " 0   ID       214200 non-null  int64\n",
      " 1   shop_id  214200 non-null  int64\n",
      " 2   item_id  214200 non-null  int64\n",
      "dtypes: int64(3)\n",
      "memory usage: 4.9 MB\n",
      "None\n"
     ]
    }
   ],
   "source": [
    "#checking the columns of the data\n",
    "print(\"\\n\\nColumns of item_categories:\\n\")\n",
    "print(item_categories.info())\n",
    "\n",
    "print(\"-----------------------------------------------------\")\n",
    "\n",
    "print(\"\\n\\nColumns of items:\\n\")\n",
    "print(items.info())\n",
    "\n",
    "print(\"-----------------------------------------------------\")\n",
    "\n",
    "print(\"\\n\\nColumns of sales_train:\\n\")\n",
    "print(sales_train.info())\n",
    "\n",
    "print(\"-----------------------------------------------------\")\n",
    "\n",
    "print(\"\\n\\nColumns of shops:\\n\")\n",
    "print(shops.info())\n",
    "\n",
    "print(\"-----------------------------------------------------\")\n",
    "\n",
    "print(\"\\n\\nColumns of test:\\n\")\n",
    "print(test.info())\n"
   ]
  },
  {
   "cell_type": "code",
   "execution_count": 234,
   "metadata": {},
   "outputs": [
    {
     "name": "stdout",
     "output_type": "stream",
     "text": [
      "\n",
      "\n",
      "Head of item_categories:\n",
      "\n",
      "           item_category_name  item_category_id\n",
      "0  PC - Headsets / Headphones                 0\n",
      "1           Accessories - PS2                 1\n",
      "2           Accessories - PS3                 2\n",
      "3           Accessories - PS4                 3\n",
      "4           Accessories - PSP                 4\n",
      "-----------------------------------------------------\n",
      "\n",
      "\n",
      "Head of items:\n",
      "\n",
      "                                           item_name  item_id  category_id\n",
      "0             !! IN THE POWER OF HAPPINESS (PLAST) D        0           40\n",
      "1  ! ABBYY FineReader 12 Professional Edition Ful...        1           76\n",
      "2              *** IN THE GLORY OF THE GLORY (UNV) D        2           40\n",
      "3                             *** BLUE WAVE (Univ) D        3           40\n",
      "4                                  *** BOX (GLASS) D        4           40\n",
      "-----------------------------------------------------\n",
      "\n",
      "\n",
      "Head of sales_train:\n",
      "\n",
      "         date  date_block_num  shop_id  item_id  item_price  item_cnt_day\n",
      "0  02.01.2013               0       59    22154      999.00           1.0\n",
      "1  03.01.2013               0       25     2552      899.00           1.0\n",
      "2  05.01.2013               0       25     2552      899.00          -1.0\n",
      "3  06.01.2013               0       25     2554     1709.05           1.0\n",
      "4  15.01.2013               0       25     2555     1099.00           1.0\n",
      "-----------------------------------------------------\n",
      "\n",
      "\n",
      "Head of shops:\n",
      "\n",
      "                            shop_name  shop_id\n",
      "0  ! Yakutsk Ordzhonikidze, 56 francs        0\n",
      "1         ! Yakutsk TC \"Central\" fran        1\n",
      "2                    Adygea TC \"Mega\"        2\n",
      "3     Balashikha TC \"Oktyabr-Kinomir\"        3\n",
      "4               Volga TC \"Volga Mall\"        4\n",
      "-----------------------------------------------------\n",
      "\n",
      "\n",
      "Head of test:\n",
      "\n",
      "   ID  shop_id  item_id\n",
      "0   0        5     5037\n",
      "1   1        5     5320\n",
      "2   2        5     5233\n",
      "3   3        5     5232\n",
      "4   4        5     5268\n"
     ]
    }
   ],
   "source": [
    "#checking the head of the data\n",
    "\n",
    "print(\"\\n\\nHead of item_categories:\\n\")\n",
    "print(item_categories.head())\n",
    "\n",
    "print(\"-----------------------------------------------------\")\n",
    "\n",
    "print(\"\\n\\nHead of items:\\n\")\n",
    "print(items.head())\n",
    "\n",
    "print(\"-----------------------------------------------------\")\n",
    "\n",
    "print(\"\\n\\nHead of sales_train:\\n\")\n",
    "print(sales_train.head())\n",
    "\n",
    "print(\"-----------------------------------------------------\")\n",
    "\n",
    "print(\"\\n\\nHead of shops:\\n\")\n",
    "print(shops.head())\n",
    "\n",
    "print(\"-----------------------------------------------------\")\n",
    "\n",
    "print(\"\\n\\nHead of test:\\n\")\n",
    "print(test.head())"
   ]
  },
  {
   "cell_type": "markdown",
   "metadata": {},
   "source": [
    "## Data Preprocessing"
   ]
  },
  {
   "cell_type": "code",
   "execution_count": 235,
   "metadata": {},
   "outputs": [],
   "source": [
    "#merging the data"
   ]
  },
  {
   "cell_type": "code",
   "execution_count": 236,
   "metadata": {},
   "outputs": [
    {
     "name": "stdout",
     "output_type": "stream",
     "text": [
      "\n",
      "\n",
      "Head of sales_with_items:\n",
      "\n",
      "          date  date_block_num  shop_id  item_id  item_price  item_cnt_day  \\\n",
      "0   02.01.2013               0       59    22154      999.00           1.0   \n",
      "1   03.01.2013               0       25     2552      899.00           1.0   \n",
      "2   05.01.2013               0       25     2552      899.00          -1.0   \n",
      "3   06.01.2013               0       25     2554     1709.05           1.0   \n",
      "4   15.01.2013               0       25     2555     1099.00           1.0   \n",
      "5   10.01.2013               0       25     2564      349.00           1.0   \n",
      "6   02.01.2013               0       25     2565      549.00           1.0   \n",
      "7   04.01.2013               0       25     2572      239.00           1.0   \n",
      "8   11.01.2013               0       25     2572      299.00           1.0   \n",
      "9   03.01.2013               0       25     2573      299.00           3.0   \n",
      "10  03.01.2013               0       25     2574      399.00           2.0   \n",
      "11  05.01.2013               0       25     2574      399.00           1.0   \n",
      "12  07.01.2013               0       25     2574      399.00           1.0   \n",
      "13  08.01.2013               0       25     2574      399.00           2.0   \n",
      "14  10.01.2013               0       25     2574      399.00           1.0   \n",
      "15  11.01.2013               0       25     2574      399.00           2.0   \n",
      "16  13.01.2013               0       25     2574      399.00           1.0   \n",
      "17  16.01.2013               0       25     2574      399.00           1.0   \n",
      "18  26.01.2013               0       25     2574      399.00           1.0   \n",
      "19  27.01.2013               0       25     2574      399.00           1.0   \n",
      "\n",
      "                                            item_name  category_id  \n",
      "0                                     SCENE 2012 (BD)           37  \n",
      "1            DEEP PURPLE  The House Of Blue Light  LP           58  \n",
      "2            DEEP PURPLE  The House Of Blue Light  LP           58  \n",
      "3            DEEP PURPLE  Who Do You Think We Are  LP           58  \n",
      "4       DEEP PURPLE 30 Very Best Of 2CD (Businesses).           56  \n",
      "5   DEEP PURPLE Perihelion: Live In Concert DVD (C...           59  \n",
      "6                   DEEP PURPLE Stormbringer (firms).           56  \n",
      "7                               DEFTONES Koi No Yokan           55  \n",
      "8                               DEFTONES Koi No Yokan           55  \n",
      "9                           DEL REY LANA  Born To Die           55  \n",
      "10  DEL REY LANA  Born To Die  The Paradise Editio...           55  \n",
      "11  DEL REY LANA  Born To Die  The Paradise Editio...           55  \n",
      "12  DEL REY LANA  Born To Die  The Paradise Editio...           55  \n",
      "13  DEL REY LANA  Born To Die  The Paradise Editio...           55  \n",
      "14  DEL REY LANA  Born To Die  The Paradise Editio...           55  \n",
      "15  DEL REY LANA  Born To Die  The Paradise Editio...           55  \n",
      "16  DEL REY LANA  Born To Die  The Paradise Editio...           55  \n",
      "17  DEL REY LANA  Born To Die  The Paradise Editio...           55  \n",
      "18  DEL REY LANA  Born To Die  The Paradise Editio...           55  \n",
      "19  DEL REY LANA  Born To Die  The Paradise Editio...           55  \n",
      "(2935849, 8)\n"
     ]
    }
   ],
   "source": [
    "#Merge sales_train.csv with items.csv on the \"item_id\" column\n",
    "sales_with_items = sales_train.merge(items, on='item_id', how='left')\n",
    "print(\"\\n\\nHead of sales_with_items:\\n\")\n",
    "print(sales_with_items.head(20))\n",
    "print(sales_with_items.shape)"
   ]
  },
  {
   "cell_type": "code",
   "execution_count": 237,
   "metadata": {},
   "outputs": [
    {
     "name": "stdout",
     "output_type": "stream",
     "text": [
      "\n",
      "\n",
      "Head of sales_with_items_and_categories:\n",
      "\n",
      "          date  date_block_num  shop_id  item_id  item_price  item_cnt_day  \\\n",
      "0   02.01.2013               0       59    22154      999.00           1.0   \n",
      "1   03.01.2013               0       25     2552      899.00           1.0   \n",
      "2   05.01.2013               0       25     2552      899.00          -1.0   \n",
      "3   06.01.2013               0       25     2554     1709.05           1.0   \n",
      "4   15.01.2013               0       25     2555     1099.00           1.0   \n",
      "5   10.01.2013               0       25     2564      349.00           1.0   \n",
      "6   02.01.2013               0       25     2565      549.00           1.0   \n",
      "7   04.01.2013               0       25     2572      239.00           1.0   \n",
      "8   11.01.2013               0       25     2572      299.00           1.0   \n",
      "9   03.01.2013               0       25     2573      299.00           3.0   \n",
      "10  03.01.2013               0       25     2574      399.00           2.0   \n",
      "11  05.01.2013               0       25     2574      399.00           1.0   \n",
      "12  07.01.2013               0       25     2574      399.00           1.0   \n",
      "13  08.01.2013               0       25     2574      399.00           2.0   \n",
      "14  10.01.2013               0       25     2574      399.00           1.0   \n",
      "15  11.01.2013               0       25     2574      399.00           2.0   \n",
      "16  13.01.2013               0       25     2574      399.00           1.0   \n",
      "17  16.01.2013               0       25     2574      399.00           1.0   \n",
      "18  26.01.2013               0       25     2574      399.00           1.0   \n",
      "19  27.01.2013               0       25     2574      399.00           1.0   \n",
      "\n",
      "                                            item_name  category_id  \\\n",
      "0                                     SCENE 2012 (BD)           37   \n",
      "1            DEEP PURPLE  The House Of Blue Light  LP           58   \n",
      "2            DEEP PURPLE  The House Of Blue Light  LP           58   \n",
      "3            DEEP PURPLE  Who Do You Think We Are  LP           58   \n",
      "4       DEEP PURPLE 30 Very Best Of 2CD (Businesses).           56   \n",
      "5   DEEP PURPLE Perihelion: Live In Concert DVD (C...           59   \n",
      "6                   DEEP PURPLE Stormbringer (firms).           56   \n",
      "7                               DEFTONES Koi No Yokan           55   \n",
      "8                               DEFTONES Koi No Yokan           55   \n",
      "9                           DEL REY LANA  Born To Die           55   \n",
      "10  DEL REY LANA  Born To Die  The Paradise Editio...           55   \n",
      "11  DEL REY LANA  Born To Die  The Paradise Editio...           55   \n",
      "12  DEL REY LANA  Born To Die  The Paradise Editio...           55   \n",
      "13  DEL REY LANA  Born To Die  The Paradise Editio...           55   \n",
      "14  DEL REY LANA  Born To Die  The Paradise Editio...           55   \n",
      "15  DEL REY LANA  Born To Die  The Paradise Editio...           55   \n",
      "16  DEL REY LANA  Born To Die  The Paradise Editio...           55   \n",
      "17  DEL REY LANA  Born To Die  The Paradise Editio...           55   \n",
      "18  DEL REY LANA  Born To Die  The Paradise Editio...           55   \n",
      "19  DEL REY LANA  Born To Die  The Paradise Editio...           55   \n",
      "\n",
      "                     item_category_name  item_category_id  \n",
      "0                      Cinema - Blu-Ray                37  \n",
      "1                         Music - Vinyl                58  \n",
      "2                         Music - Vinyl                58  \n",
      "3                         Music - Vinyl                58  \n",
      "4    Music - CD of corporate production                56  \n",
      "5                   Music - Music video                59  \n",
      "6    Music - CD of corporate production                56  \n",
      "7        Music - CD of local production                55  \n",
      "8        Music - CD of local production                55  \n",
      "9        Music - CD of local production                55  \n",
      "10       Music - CD of local production                55  \n",
      "11       Music - CD of local production                55  \n",
      "12       Music - CD of local production                55  \n",
      "13       Music - CD of local production                55  \n",
      "14       Music - CD of local production                55  \n",
      "15       Music - CD of local production                55  \n",
      "16       Music - CD of local production                55  \n",
      "17       Music - CD of local production                55  \n",
      "18       Music - CD of local production                55  \n",
      "19       Music - CD of local production                55  \n",
      "(2935849, 10)\n"
     ]
    }
   ],
   "source": [
    "#Merge the result with item_categories.csv on the \"category_id\" \n",
    "sales_with_items_and_categories = sales_with_items.merge(item_categories, right_on='item_category_id', left_on='category_id', how='left')\n",
    "print(\"\\n\\nHead of sales_with_items_and_categories:\\n\")\n",
    "print(sales_with_items_and_categories.head(20))\n",
    "print(sales_with_items_and_categories.shape)"
   ]
  },
  {
   "cell_type": "code",
   "execution_count": 238,
   "metadata": {},
   "outputs": [],
   "source": [
    "# Check if the two columns are the same\n",
    "if sales_with_items_and_categories['item_category_id'].equals(sales_with_items_and_categories['category_id']):\n",
    "    # If they are the same, you can drop one of the columns\n",
    "    sales_with_items_and_categories.drop(columns=['item_category_id'], inplace=True)\n"
   ]
  },
  {
   "cell_type": "code",
   "execution_count": 239,
   "metadata": {},
   "outputs": [
    {
     "name": "stdout",
     "output_type": "stream",
     "text": [
      "\n",
      "\n",
      "Head of sales_with_items_and_categories:\n",
      "\n",
      "          date  date_block_num  shop_id  item_id  item_price  item_cnt_day  \\\n",
      "0   02.01.2013               0       59    22154      999.00           1.0   \n",
      "1   03.01.2013               0       25     2552      899.00           1.0   \n",
      "2   05.01.2013               0       25     2552      899.00          -1.0   \n",
      "3   06.01.2013               0       25     2554     1709.05           1.0   \n",
      "4   15.01.2013               0       25     2555     1099.00           1.0   \n",
      "5   10.01.2013               0       25     2564      349.00           1.0   \n",
      "6   02.01.2013               0       25     2565      549.00           1.0   \n",
      "7   04.01.2013               0       25     2572      239.00           1.0   \n",
      "8   11.01.2013               0       25     2572      299.00           1.0   \n",
      "9   03.01.2013               0       25     2573      299.00           3.0   \n",
      "10  03.01.2013               0       25     2574      399.00           2.0   \n",
      "11  05.01.2013               0       25     2574      399.00           1.0   \n",
      "12  07.01.2013               0       25     2574      399.00           1.0   \n",
      "13  08.01.2013               0       25     2574      399.00           2.0   \n",
      "14  10.01.2013               0       25     2574      399.00           1.0   \n",
      "15  11.01.2013               0       25     2574      399.00           2.0   \n",
      "16  13.01.2013               0       25     2574      399.00           1.0   \n",
      "17  16.01.2013               0       25     2574      399.00           1.0   \n",
      "18  26.01.2013               0       25     2574      399.00           1.0   \n",
      "19  27.01.2013               0       25     2574      399.00           1.0   \n",
      "\n",
      "                                            item_name  category_id  \\\n",
      "0                                     SCENE 2012 (BD)           37   \n",
      "1            DEEP PURPLE  The House Of Blue Light  LP           58   \n",
      "2            DEEP PURPLE  The House Of Blue Light  LP           58   \n",
      "3            DEEP PURPLE  Who Do You Think We Are  LP           58   \n",
      "4       DEEP PURPLE 30 Very Best Of 2CD (Businesses).           56   \n",
      "5   DEEP PURPLE Perihelion: Live In Concert DVD (C...           59   \n",
      "6                   DEEP PURPLE Stormbringer (firms).           56   \n",
      "7                               DEFTONES Koi No Yokan           55   \n",
      "8                               DEFTONES Koi No Yokan           55   \n",
      "9                           DEL REY LANA  Born To Die           55   \n",
      "10  DEL REY LANA  Born To Die  The Paradise Editio...           55   \n",
      "11  DEL REY LANA  Born To Die  The Paradise Editio...           55   \n",
      "12  DEL REY LANA  Born To Die  The Paradise Editio...           55   \n",
      "13  DEL REY LANA  Born To Die  The Paradise Editio...           55   \n",
      "14  DEL REY LANA  Born To Die  The Paradise Editio...           55   \n",
      "15  DEL REY LANA  Born To Die  The Paradise Editio...           55   \n",
      "16  DEL REY LANA  Born To Die  The Paradise Editio...           55   \n",
      "17  DEL REY LANA  Born To Die  The Paradise Editio...           55   \n",
      "18  DEL REY LANA  Born To Die  The Paradise Editio...           55   \n",
      "19  DEL REY LANA  Born To Die  The Paradise Editio...           55   \n",
      "\n",
      "                     item_category_name  \n",
      "0                      Cinema - Blu-Ray  \n",
      "1                         Music - Vinyl  \n",
      "2                         Music - Vinyl  \n",
      "3                         Music - Vinyl  \n",
      "4    Music - CD of corporate production  \n",
      "5                   Music - Music video  \n",
      "6    Music - CD of corporate production  \n",
      "7        Music - CD of local production  \n",
      "8        Music - CD of local production  \n",
      "9        Music - CD of local production  \n",
      "10       Music - CD of local production  \n",
      "11       Music - CD of local production  \n",
      "12       Music - CD of local production  \n",
      "13       Music - CD of local production  \n",
      "14       Music - CD of local production  \n",
      "15       Music - CD of local production  \n",
      "16       Music - CD of local production  \n",
      "17       Music - CD of local production  \n",
      "18       Music - CD of local production  \n",
      "19       Music - CD of local production  \n",
      "(2935849, 9)\n"
     ]
    }
   ],
   "source": [
    "print(\"\\n\\nHead of sales_with_items_and_categories:\\n\")\n",
    "print(sales_with_items_and_categories.head(20))\n",
    "print(sales_with_items_and_categories.shape)"
   ]
  },
  {
   "cell_type": "code",
   "execution_count": 240,
   "metadata": {},
   "outputs": [
    {
     "name": "stdout",
     "output_type": "stream",
     "text": [
      "\n",
      "\n",
      "Head of final_dataset:\n",
      "\n",
      "          date  date_block_num  shop_id  item_id  item_price  item_cnt_day  \\\n",
      "0   02.01.2013               0       59    22154      999.00           1.0   \n",
      "1   03.01.2013               0       25     2552      899.00           1.0   \n",
      "2   05.01.2013               0       25     2552      899.00          -1.0   \n",
      "3   06.01.2013               0       25     2554     1709.05           1.0   \n",
      "4   15.01.2013               0       25     2555     1099.00           1.0   \n",
      "5   10.01.2013               0       25     2564      349.00           1.0   \n",
      "6   02.01.2013               0       25     2565      549.00           1.0   \n",
      "7   04.01.2013               0       25     2572      239.00           1.0   \n",
      "8   11.01.2013               0       25     2572      299.00           1.0   \n",
      "9   03.01.2013               0       25     2573      299.00           3.0   \n",
      "10  03.01.2013               0       25     2574      399.00           2.0   \n",
      "11  05.01.2013               0       25     2574      399.00           1.0   \n",
      "12  07.01.2013               0       25     2574      399.00           1.0   \n",
      "13  08.01.2013               0       25     2574      399.00           2.0   \n",
      "14  10.01.2013               0       25     2574      399.00           1.0   \n",
      "15  11.01.2013               0       25     2574      399.00           2.0   \n",
      "16  13.01.2013               0       25     2574      399.00           1.0   \n",
      "17  16.01.2013               0       25     2574      399.00           1.0   \n",
      "18  26.01.2013               0       25     2574      399.00           1.0   \n",
      "19  27.01.2013               0       25     2574      399.00           1.0   \n",
      "\n",
      "                                            item_name  category_id  \\\n",
      "0                                     SCENE 2012 (BD)           37   \n",
      "1            DEEP PURPLE  The House Of Blue Light  LP           58   \n",
      "2            DEEP PURPLE  The House Of Blue Light  LP           58   \n",
      "3            DEEP PURPLE  Who Do You Think We Are  LP           58   \n",
      "4       DEEP PURPLE 30 Very Best Of 2CD (Businesses).           56   \n",
      "5   DEEP PURPLE Perihelion: Live In Concert DVD (C...           59   \n",
      "6                   DEEP PURPLE Stormbringer (firms).           56   \n",
      "7                               DEFTONES Koi No Yokan           55   \n",
      "8                               DEFTONES Koi No Yokan           55   \n",
      "9                           DEL REY LANA  Born To Die           55   \n",
      "10  DEL REY LANA  Born To Die  The Paradise Editio...           55   \n",
      "11  DEL REY LANA  Born To Die  The Paradise Editio...           55   \n",
      "12  DEL REY LANA  Born To Die  The Paradise Editio...           55   \n",
      "13  DEL REY LANA  Born To Die  The Paradise Editio...           55   \n",
      "14  DEL REY LANA  Born To Die  The Paradise Editio...           55   \n",
      "15  DEL REY LANA  Born To Die  The Paradise Editio...           55   \n",
      "16  DEL REY LANA  Born To Die  The Paradise Editio...           55   \n",
      "17  DEL REY LANA  Born To Die  The Paradise Editio...           55   \n",
      "18  DEL REY LANA  Born To Die  The Paradise Editio...           55   \n",
      "19  DEL REY LANA  Born To Die  The Paradise Editio...           55   \n",
      "\n",
      "                     item_category_name                shop_name  \n",
      "0                      Cinema - Blu-Ray   Yaroslavl TC\" Altair \"  \n",
      "1                         Music - Vinyl     Moscow TEC\" Atrium \"  \n",
      "2                         Music - Vinyl     Moscow TEC\" Atrium \"  \n",
      "3                         Music - Vinyl     Moscow TEC\" Atrium \"  \n",
      "4    Music - CD of corporate production     Moscow TEC\" Atrium \"  \n",
      "5                   Music - Music video     Moscow TEC\" Atrium \"  \n",
      "6    Music - CD of corporate production     Moscow TEC\" Atrium \"  \n",
      "7        Music - CD of local production     Moscow TEC\" Atrium \"  \n",
      "8        Music - CD of local production     Moscow TEC\" Atrium \"  \n",
      "9        Music - CD of local production     Moscow TEC\" Atrium \"  \n",
      "10       Music - CD of local production     Moscow TEC\" Atrium \"  \n",
      "11       Music - CD of local production     Moscow TEC\" Atrium \"  \n",
      "12       Music - CD of local production     Moscow TEC\" Atrium \"  \n",
      "13       Music - CD of local production     Moscow TEC\" Atrium \"  \n",
      "14       Music - CD of local production     Moscow TEC\" Atrium \"  \n",
      "15       Music - CD of local production     Moscow TEC\" Atrium \"  \n",
      "16       Music - CD of local production     Moscow TEC\" Atrium \"  \n",
      "17       Music - CD of local production     Moscow TEC\" Atrium \"  \n",
      "18       Music - CD of local production     Moscow TEC\" Atrium \"  \n",
      "19       Music - CD of local production     Moscow TEC\" Atrium \"  \n",
      "(2935849, 10)\n"
     ]
    }
   ],
   "source": [
    "#Merge the result with shops.csv on the \"shop_id\" \n",
    "final_dataset = sales_with_items_and_categories.merge(shops, on='shop_id', how='left')\n",
    "print(\"\\n\\nHead of final_dataset:\\n\")\n",
    "print(final_dataset.head(20))\n",
    "print(final_dataset.shape)"
   ]
  },
  {
   "cell_type": "code",
   "execution_count": 241,
   "metadata": {},
   "outputs": [
    {
     "name": "stdout",
     "output_type": "stream",
     "text": [
      "\n",
      "\n",
      "Columns of final_dataset:\n",
      "\n",
      "<class 'pandas.core.frame.DataFrame'>\n",
      "RangeIndex: 2935849 entries, 0 to 2935848\n",
      "Data columns (total 10 columns):\n",
      " #   Column              Dtype  \n",
      "---  ------              -----  \n",
      " 0   date                object \n",
      " 1   date_block_num      int64  \n",
      " 2   shop_id             int64  \n",
      " 3   item_id             int64  \n",
      " 4   item_price          float64\n",
      " 5   item_cnt_day        float64\n",
      " 6   item_name           object \n",
      " 7   category_id         int64  \n",
      " 8   item_category_name  object \n",
      " 9   shop_name           object \n",
      "dtypes: float64(2), int64(4), object(4)\n",
      "memory usage: 224.0+ MB\n",
      "None\n"
     ]
    }
   ],
   "source": [
    "#checks the columns of the final dataset\n",
    "print(\"\\n\\nColumns of final_dataset:\\n\")\n",
    "print(final_dataset.info())\n"
   ]
  },
  {
   "cell_type": "code",
   "execution_count": 242,
   "metadata": {},
   "outputs": [
    {
     "name": "stdout",
     "output_type": "stream",
     "text": [
      "               date  date_block_num\n",
      "0        02.01.2013               0\n",
      "1        03.01.2013               0\n",
      "2        05.01.2013               0\n",
      "3        06.01.2013               0\n",
      "4        15.01.2013               0\n",
      "...             ...             ...\n",
      "2935844  10.10.2015              33\n",
      "2935845  09.10.2015              33\n",
      "2935846  14.10.2015              33\n",
      "2935847  22.10.2015              33\n",
      "2935848  03.10.2015              33\n",
      "\n",
      "[2935849 rows x 2 columns]\n"
     ]
    }
   ],
   "source": [
    "#prints the date and date_block_num column to check whether they are related\n",
    "columns_to_print = ['date', 'date_block_num']\n",
    "print(final_dataset[columns_to_print])"
   ]
  },
  {
   "cell_type": "code",
   "execution_count": 243,
   "metadata": {},
   "outputs": [],
   "source": [
    "# Rename the column\n",
    "final_dataset.rename(columns={'date_block_num': 'month_num'}, inplace=True)"
   ]
  },
  {
   "cell_type": "code",
   "execution_count": 244,
   "metadata": {},
   "outputs": [],
   "source": [
    "#Rename the item_cnt_day column\n",
    "final_dataset.rename(columns={'item_cnt_day': 'item_cnt_month'}, inplace=True)"
   ]
  },
  {
   "cell_type": "code",
   "execution_count": 245,
   "metadata": {},
   "outputs": [
    {
     "name": "stdout",
     "output_type": "stream",
     "text": [
      "\n",
      "\n",
      "Head of final_dataset:\n",
      "\n",
      "          date  month_num  shop_id  item_id  item_price  item_cnt_month  \\\n",
      "0   02.01.2013          0       59    22154      999.00             1.0   \n",
      "1   03.01.2013          0       25     2552      899.00             1.0   \n",
      "2   05.01.2013          0       25     2552      899.00            -1.0   \n",
      "3   06.01.2013          0       25     2554     1709.05             1.0   \n",
      "4   15.01.2013          0       25     2555     1099.00             1.0   \n",
      "5   10.01.2013          0       25     2564      349.00             1.0   \n",
      "6   02.01.2013          0       25     2565      549.00             1.0   \n",
      "7   04.01.2013          0       25     2572      239.00             1.0   \n",
      "8   11.01.2013          0       25     2572      299.00             1.0   \n",
      "9   03.01.2013          0       25     2573      299.00             3.0   \n",
      "10  03.01.2013          0       25     2574      399.00             2.0   \n",
      "11  05.01.2013          0       25     2574      399.00             1.0   \n",
      "12  07.01.2013          0       25     2574      399.00             1.0   \n",
      "13  08.01.2013          0       25     2574      399.00             2.0   \n",
      "14  10.01.2013          0       25     2574      399.00             1.0   \n",
      "15  11.01.2013          0       25     2574      399.00             2.0   \n",
      "16  13.01.2013          0       25     2574      399.00             1.0   \n",
      "17  16.01.2013          0       25     2574      399.00             1.0   \n",
      "18  26.01.2013          0       25     2574      399.00             1.0   \n",
      "19  27.01.2013          0       25     2574      399.00             1.0   \n",
      "\n",
      "                                            item_name  category_id  \\\n",
      "0                                     SCENE 2012 (BD)           37   \n",
      "1            DEEP PURPLE  The House Of Blue Light  LP           58   \n",
      "2            DEEP PURPLE  The House Of Blue Light  LP           58   \n",
      "3            DEEP PURPLE  Who Do You Think We Are  LP           58   \n",
      "4       DEEP PURPLE 30 Very Best Of 2CD (Businesses).           56   \n",
      "5   DEEP PURPLE Perihelion: Live In Concert DVD (C...           59   \n",
      "6                   DEEP PURPLE Stormbringer (firms).           56   \n",
      "7                               DEFTONES Koi No Yokan           55   \n",
      "8                               DEFTONES Koi No Yokan           55   \n",
      "9                           DEL REY LANA  Born To Die           55   \n",
      "10  DEL REY LANA  Born To Die  The Paradise Editio...           55   \n",
      "11  DEL REY LANA  Born To Die  The Paradise Editio...           55   \n",
      "12  DEL REY LANA  Born To Die  The Paradise Editio...           55   \n",
      "13  DEL REY LANA  Born To Die  The Paradise Editio...           55   \n",
      "14  DEL REY LANA  Born To Die  The Paradise Editio...           55   \n",
      "15  DEL REY LANA  Born To Die  The Paradise Editio...           55   \n",
      "16  DEL REY LANA  Born To Die  The Paradise Editio...           55   \n",
      "17  DEL REY LANA  Born To Die  The Paradise Editio...           55   \n",
      "18  DEL REY LANA  Born To Die  The Paradise Editio...           55   \n",
      "19  DEL REY LANA  Born To Die  The Paradise Editio...           55   \n",
      "\n",
      "                     item_category_name                shop_name  \n",
      "0                      Cinema - Blu-Ray   Yaroslavl TC\" Altair \"  \n",
      "1                         Music - Vinyl     Moscow TEC\" Atrium \"  \n",
      "2                         Music - Vinyl     Moscow TEC\" Atrium \"  \n",
      "3                         Music - Vinyl     Moscow TEC\" Atrium \"  \n",
      "4    Music - CD of corporate production     Moscow TEC\" Atrium \"  \n",
      "5                   Music - Music video     Moscow TEC\" Atrium \"  \n",
      "6    Music - CD of corporate production     Moscow TEC\" Atrium \"  \n",
      "7        Music - CD of local production     Moscow TEC\" Atrium \"  \n",
      "8        Music - CD of local production     Moscow TEC\" Atrium \"  \n",
      "9        Music - CD of local production     Moscow TEC\" Atrium \"  \n",
      "10       Music - CD of local production     Moscow TEC\" Atrium \"  \n",
      "11       Music - CD of local production     Moscow TEC\" Atrium \"  \n",
      "12       Music - CD of local production     Moscow TEC\" Atrium \"  \n",
      "13       Music - CD of local production     Moscow TEC\" Atrium \"  \n",
      "14       Music - CD of local production     Moscow TEC\" Atrium \"  \n",
      "15       Music - CD of local production     Moscow TEC\" Atrium \"  \n",
      "16       Music - CD of local production     Moscow TEC\" Atrium \"  \n",
      "17       Music - CD of local production     Moscow TEC\" Atrium \"  \n",
      "18       Music - CD of local production     Moscow TEC\" Atrium \"  \n",
      "19       Music - CD of local production     Moscow TEC\" Atrium \"  \n",
      "(2935849, 10)\n"
     ]
    }
   ],
   "source": [
    "print(\"\\n\\nHead of final_dataset:\\n\")\n",
    "print(final_dataset.head(20))\n",
    "print(final_dataset.shape)"
   ]
  },
  {
   "cell_type": "code",
   "execution_count": 246,
   "metadata": {},
   "outputs": [
    {
     "name": "stdout",
     "output_type": "stream",
     "text": [
      "\n",
      "\n",
      "Columns of final_dataset:\n",
      "\n",
      "<class 'pandas.core.frame.DataFrame'>\n",
      "RangeIndex: 2935849 entries, 0 to 2935848\n",
      "Data columns (total 10 columns):\n",
      " #   Column              Dtype  \n",
      "---  ------              -----  \n",
      " 0   date                object \n",
      " 1   month_num           int64  \n",
      " 2   shop_id             int64  \n",
      " 3   item_id             int64  \n",
      " 4   item_price          float64\n",
      " 5   item_cnt_month      float64\n",
      " 6   item_name           object \n",
      " 7   category_id         int64  \n",
      " 8   item_category_name  object \n",
      " 9   shop_name           object \n",
      "dtypes: float64(2), int64(4), object(4)\n",
      "memory usage: 224.0+ MB\n",
      "None\n"
     ]
    }
   ],
   "source": [
    "#checks the columns of the final dataset\n",
    "print(\"\\n\\nColumns of final_dataset:\\n\")\n",
    "print(final_dataset.info())"
   ]
  },
  {
   "cell_type": "code",
   "execution_count": 247,
   "metadata": {},
   "outputs": [
    {
     "name": "stdout",
     "output_type": "stream",
     "text": [
      "\n",
      "\n",
      "Missing values in final_dataset:\n",
      "\n"
     ]
    },
    {
     "name": "stdout",
     "output_type": "stream",
     "text": [
      "date                  0\n",
      "month_num             0\n",
      "shop_id               0\n",
      "item_id               0\n",
      "item_price            0\n",
      "item_cnt_month        0\n",
      "item_name             0\n",
      "category_id           0\n",
      "item_category_name    0\n",
      "shop_name             0\n",
      "dtype: int64\n"
     ]
    }
   ],
   "source": [
    "#Data Cleaning\n",
    "\n",
    "#checking for missing values\n",
    "print(\"\\n\\nMissing values in final_dataset:\\n\")\n",
    "print(final_dataset.isnull().sum())"
   ]
  },
  {
   "cell_type": "code",
   "execution_count": 248,
   "metadata": {},
   "outputs": [
    {
     "name": "stdout",
     "output_type": "stream",
     "text": [
      "\n",
      "\n",
      "Null values in final_dataset:\n",
      "\n",
      "date                  0\n",
      "month_num             0\n",
      "shop_id               0\n",
      "item_id               0\n",
      "item_price            0\n",
      "item_cnt_month        0\n",
      "item_name             0\n",
      "category_id           0\n",
      "item_category_name    0\n",
      "shop_name             0\n",
      "dtype: int64\n"
     ]
    }
   ],
   "source": [
    "#checking for null values\n",
    "print(\"\\n\\nNull values in final_dataset:\\n\")\n",
    "print(final_dataset.isnull().sum())"
   ]
  },
  {
   "cell_type": "code",
   "execution_count": 249,
   "metadata": {},
   "outputs": [
    {
     "name": "stdout",
     "output_type": "stream",
     "text": [
      "(2935849, 10)\n"
     ]
    }
   ],
   "source": [
    "print(final_dataset.shape)"
   ]
  },
  {
   "cell_type": "code",
   "execution_count": 250,
   "metadata": {},
   "outputs": [],
   "source": [
    "#handles the missing values in final_dataset\n",
    "final_dataset['item_name'].fillna('Unknown', inplace=True)\n",
    "final_dataset['item_category_name'].fillna('Unknown', inplace=True)"
   ]
  },
  {
   "cell_type": "code",
   "execution_count": 251,
   "metadata": {},
   "outputs": [
    {
     "name": "stdout",
     "output_type": "stream",
     "text": [
      "(2935849, 10)\n"
     ]
    }
   ],
   "source": [
    "print(final_dataset.shape)"
   ]
  },
  {
   "cell_type": "code",
   "execution_count": 252,
   "metadata": {},
   "outputs": [],
   "source": [
    "#removes duplicates rows in final_dataset\n",
    "final_dataset.drop_duplicates(inplace=True)\n"
   ]
  },
  {
   "cell_type": "code",
   "execution_count": 253,
   "metadata": {},
   "outputs": [
    {
     "name": "stdout",
     "output_type": "stream",
     "text": [
      "(2935843, 10)\n"
     ]
    }
   ],
   "source": [
    "print(final_dataset.shape)"
   ]
  },
  {
   "cell_type": "code",
   "execution_count": 254,
   "metadata": {},
   "outputs": [
    {
     "name": "stdout",
     "output_type": "stream",
     "text": [
      "\n",
      "\n",
      "Data types of final_dataset:\n",
      "\n",
      "date                   object\n",
      "month_num               int64\n",
      "shop_id                 int64\n",
      "item_id                 int64\n",
      "item_price            float64\n",
      "item_cnt_month        float64\n",
      "item_name              object\n",
      "category_id             int64\n",
      "item_category_name     object\n",
      "shop_name              object\n",
      "dtype: object\n"
     ]
    }
   ],
   "source": [
    "#checks and solves the data type of the columns\n",
    "print(\"\\n\\nData types of final_dataset:\\n\")\n",
    "print(final_dataset.dtypes)\n"
   ]
  },
  {
   "cell_type": "code",
   "execution_count": 255,
   "metadata": {},
   "outputs": [],
   "source": [
    "#seems like item_cnt_month should be int64\n",
    "final_dataset['item_cnt_month'] = final_dataset['item_cnt_month'].astype('int64')"
   ]
  },
  {
   "cell_type": "code",
   "execution_count": 256,
   "metadata": {},
   "outputs": [
    {
     "name": "stdout",
     "output_type": "stream",
     "text": [
      "date                   object\n",
      "month_num               int64\n",
      "shop_id                 int64\n",
      "item_id                 int64\n",
      "item_price            float64\n",
      "item_cnt_month          int64\n",
      "item_name              object\n",
      "category_id             int64\n",
      "item_category_name     object\n",
      "shop_name              object\n",
      "dtype: object\n"
     ]
    }
   ],
   "source": [
    "print(final_dataset.dtypes)"
   ]
  },
  {
   "cell_type": "code",
   "execution_count": 257,
   "metadata": {},
   "outputs": [
    {
     "name": "stdout",
     "output_type": "stream",
     "text": [
      "0     1\n",
      "1     1\n",
      "2    -1\n",
      "3     1\n",
      "4     1\n",
      "5     1\n",
      "6     1\n",
      "7     1\n",
      "8     1\n",
      "9     3\n",
      "10    2\n",
      "11    1\n",
      "12    1\n",
      "13    2\n",
      "14    1\n",
      "15    2\n",
      "16    1\n",
      "17    1\n",
      "18    1\n",
      "19    1\n",
      "20    1\n",
      "21    1\n",
      "22    1\n",
      "23    1\n",
      "24    1\n",
      "25    1\n",
      "26    1\n",
      "27    1\n",
      "28    1\n",
      "29    1\n",
      "Name: item_cnt_month, dtype: int64\n"
     ]
    }
   ],
   "source": [
    "#prints item_cnt_month column to check whether it is int64\n",
    "print(final_dataset['item_cnt_month'].head(30))   "
   ]
  },
  {
   "cell_type": "code",
   "execution_count": 258,
   "metadata": {},
   "outputs": [
    {
     "name": "stdout",
     "output_type": "stream",
     "text": [
      "(2935843, 10)\n"
     ]
    }
   ],
   "source": [
    "print(final_dataset.shape)"
   ]
  },
  {
   "cell_type": "code",
   "execution_count": 259,
   "metadata": {},
   "outputs": [
    {
     "name": "stdout",
     "output_type": "stream",
     "text": [
      "(2928487, 10)\n"
     ]
    }
   ],
   "source": [
    "#removes -1 and 307980 from item_cnt_month column\n",
    "#because it is an outlier\n",
    "#and it is not possible to sell -1 and 307980 items in a day\n",
    "#because 307980 is the total number of items sold in a day\n",
    "#which means that the data is incorrect\n",
    "#and -1 is not possible\n",
    "#which means that the data is incorrect\n",
    "\n",
    "final_dataset = final_dataset[(final_dataset['item_cnt_month'] > 0) & (final_dataset['item_cnt_month'] < 307980)]\n",
    "\n",
    "print(final_dataset.shape)"
   ]
  },
  {
   "cell_type": "code",
   "execution_count": 260,
   "metadata": {},
   "outputs": [],
   "source": [
    "#deal with the incorrect data in the item_price column\n",
    "#the item_price should not be negative\n",
    "#the item_price should not be zero\n",
    "#the item_price should not be greater than 100000\n",
    "\n",
    "final_dataset = final_dataset[(final_dataset['item_price'] > 0) & (final_dataset['item_price'] < 100000)]"
   ]
  },
  {
   "cell_type": "code",
   "execution_count": 261,
   "metadata": {},
   "outputs": [
    {
     "name": "stdout",
     "output_type": "stream",
     "text": [
      "(2928485, 10)\n"
     ]
    }
   ],
   "source": [
    "print(final_dataset.shape)"
   ]
  },
  {
   "cell_type": "code",
   "execution_count": 262,
   "metadata": {},
   "outputs": [],
   "source": [
    "#handles special characters and formatting in the data set\n",
    "final_dataset['item_name'] = final_dataset['item_name'].str.replace('[^A-Za-z0-9А-Яа-я]+', ' ')"
   ]
  },
  {
   "cell_type": "code",
   "execution_count": 263,
   "metadata": {},
   "outputs": [
    {
     "name": "stdout",
     "output_type": "stream",
     "text": [
      "(2928485, 10)\n"
     ]
    }
   ],
   "source": [
    "print(final_dataset.shape)"
   ]
  },
  {
   "cell_type": "code",
   "execution_count": 264,
   "metadata": {},
   "outputs": [],
   "source": [
    "#handles noise in the data set\n",
    "\n",
    "#removes the noise in the item_name column\n",
    "final_dataset['item_name'] = final_dataset['item_name'].str.replace('  ', ' ')"
   ]
  },
  {
   "cell_type": "code",
   "execution_count": 265,
   "metadata": {},
   "outputs": [
    {
     "name": "stdout",
     "output_type": "stream",
     "text": [
      "         date  month_num  shop_id  item_id  item_price  item_cnt_month  \\\n",
      "0  02.01.2013          0       59    22154      999.00               1   \n",
      "1  03.01.2013          0       25     2552      899.00               1   \n",
      "3  06.01.2013          0       25     2554     1709.05               1   \n",
      "4  15.01.2013          0       25     2555     1099.00               1   \n",
      "5  10.01.2013          0       25     2564      349.00               1   \n",
      "\n",
      "                                           item_name  category_id  \\\n",
      "0                                    SCENE 2012 (BD)           37   \n",
      "1             DEEP PURPLE The House Of Blue Light LP           58   \n",
      "3             DEEP PURPLE Who Do You Think We Are LP           58   \n",
      "4      DEEP PURPLE 30 Very Best Of 2CD (Businesses).           56   \n",
      "5  DEEP PURPLE Perihelion: Live In Concert DVD (C...           59   \n",
      "\n",
      "                    item_category_name                shop_name  \n",
      "0                     Cinema - Blu-Ray   Yaroslavl TC\" Altair \"  \n",
      "1                        Music - Vinyl     Moscow TEC\" Atrium \"  \n",
      "3                        Music - Vinyl     Moscow TEC\" Atrium \"  \n",
      "4   Music - CD of corporate production     Moscow TEC\" Atrium \"  \n",
      "5                  Music - Music video     Moscow TEC\" Atrium \"  \n"
     ]
    }
   ],
   "source": [
    "print(final_dataset.head())"
   ]
  },
  {
   "cell_type": "code",
   "execution_count": 266,
   "metadata": {},
   "outputs": [],
   "source": [
    "#data integration\n",
    "\n",
    "#creates a new column called revenue\n",
    "final_dataset['revenue'] = final_dataset['item_cnt_month'] * final_dataset['item_price']\n"
   ]
  },
  {
   "cell_type": "code",
   "execution_count": 267,
   "metadata": {},
   "outputs": [
    {
     "name": "stdout",
     "output_type": "stream",
     "text": [
      "\n",
      "\n",
      "Head of final_dataset:\n",
      "\n",
      "          date  month_num  shop_id  item_id  item_price  item_cnt_month  \\\n",
      "0   02.01.2013          0       59    22154      999.00               1   \n",
      "1   03.01.2013          0       25     2552      899.00               1   \n",
      "3   06.01.2013          0       25     2554     1709.05               1   \n",
      "4   15.01.2013          0       25     2555     1099.00               1   \n",
      "5   10.01.2013          0       25     2564      349.00               1   \n",
      "6   02.01.2013          0       25     2565      549.00               1   \n",
      "7   04.01.2013          0       25     2572      239.00               1   \n",
      "8   11.01.2013          0       25     2572      299.00               1   \n",
      "9   03.01.2013          0       25     2573      299.00               3   \n",
      "10  03.01.2013          0       25     2574      399.00               2   \n",
      "11  05.01.2013          0       25     2574      399.00               1   \n",
      "12  07.01.2013          0       25     2574      399.00               1   \n",
      "13  08.01.2013          0       25     2574      399.00               2   \n",
      "14  10.01.2013          0       25     2574      399.00               1   \n",
      "15  11.01.2013          0       25     2574      399.00               2   \n",
      "16  13.01.2013          0       25     2574      399.00               1   \n",
      "17  16.01.2013          0       25     2574      399.00               1   \n",
      "18  26.01.2013          0       25     2574      399.00               1   \n",
      "19  27.01.2013          0       25     2574      399.00               1   \n",
      "20  09.01.2013          0       25     2593      279.00               1   \n",
      "\n",
      "                                            item_name  category_id  \\\n",
      "0                                     SCENE 2012 (BD)           37   \n",
      "1              DEEP PURPLE The House Of Blue Light LP           58   \n",
      "3              DEEP PURPLE Who Do You Think We Are LP           58   \n",
      "4       DEEP PURPLE 30 Very Best Of 2CD (Businesses).           56   \n",
      "5   DEEP PURPLE Perihelion: Live In Concert DVD (C...           59   \n",
      "6                   DEEP PURPLE Stormbringer (firms).           56   \n",
      "7                               DEFTONES Koi No Yokan           55   \n",
      "8                               DEFTONES Koi No Yokan           55   \n",
      "9                            DEL REY LANA Born To Die           55   \n",
      "10  DEL REY LANA Born To Die The Paradise Edition 2CD           55   \n",
      "11  DEL REY LANA Born To Die The Paradise Edition 2CD           55   \n",
      "12  DEL REY LANA Born To Die The Paradise Edition 2CD           55   \n",
      "13  DEL REY LANA Born To Die The Paradise Edition 2CD           55   \n",
      "14  DEL REY LANA Born To Die The Paradise Edition 2CD           55   \n",
      "15  DEL REY LANA Born To Die The Paradise Edition 2CD           55   \n",
      "16  DEL REY LANA Born To Die The Paradise Edition 2CD           55   \n",
      "17  DEL REY LANA Born To Die The Paradise Edition 2CD           55   \n",
      "18  DEL REY LANA Born To Die The Paradise Edition 2CD           55   \n",
      "19  DEL REY LANA Born To Die The Paradise Edition 2CD           55   \n",
      "20                  DEPECHE MODE Music For The Masses           55   \n",
      "\n",
      "                     item_category_name                shop_name  revenue  \n",
      "0                      Cinema - Blu-Ray   Yaroslavl TC\" Altair \"   999.00  \n",
      "1                         Music - Vinyl     Moscow TEC\" Atrium \"   899.00  \n",
      "3                         Music - Vinyl     Moscow TEC\" Atrium \"  1709.05  \n",
      "4    Music - CD of corporate production     Moscow TEC\" Atrium \"  1099.00  \n",
      "5                   Music - Music video     Moscow TEC\" Atrium \"   349.00  \n",
      "6    Music - CD of corporate production     Moscow TEC\" Atrium \"   549.00  \n",
      "7        Music - CD of local production     Moscow TEC\" Atrium \"   239.00  \n",
      "8        Music - CD of local production     Moscow TEC\" Atrium \"   299.00  \n",
      "9        Music - CD of local production     Moscow TEC\" Atrium \"   897.00  \n",
      "10       Music - CD of local production     Moscow TEC\" Atrium \"   798.00  \n",
      "11       Music - CD of local production     Moscow TEC\" Atrium \"   399.00  \n",
      "12       Music - CD of local production     Moscow TEC\" Atrium \"   399.00  \n",
      "13       Music - CD of local production     Moscow TEC\" Atrium \"   798.00  \n",
      "14       Music - CD of local production     Moscow TEC\" Atrium \"   399.00  \n",
      "15       Music - CD of local production     Moscow TEC\" Atrium \"   798.00  \n",
      "16       Music - CD of local production     Moscow TEC\" Atrium \"   399.00  \n",
      "17       Music - CD of local production     Moscow TEC\" Atrium \"   399.00  \n",
      "18       Music - CD of local production     Moscow TEC\" Atrium \"   399.00  \n",
      "19       Music - CD of local production     Moscow TEC\" Atrium \"   399.00  \n",
      "20       Music - CD of local production     Moscow TEC\" Atrium \"   279.00  \n",
      "(2928485, 11)\n"
     ]
    }
   ],
   "source": [
    "print(\"\\n\\nHead of final_dataset:\\n\")\n",
    "print(final_dataset.head(20))\n",
    "print(final_dataset.shape)"
   ]
  },
  {
   "cell_type": "code",
   "execution_count": 268,
   "metadata": {},
   "outputs": [],
   "source": [
    "#data integration and data transformation\n",
    "\n",
    "#creates a new column called date num\n",
    "final_dataset['date_num'] = final_dataset['date'].str[:2]"
   ]
  },
  {
   "cell_type": "code",
   "execution_count": 269,
   "metadata": {},
   "outputs": [
    {
     "name": "stdout",
     "output_type": "stream",
     "text": [
      "\n",
      "\n",
      "Head of final_dataset:\n",
      "\n",
      "          date  month_num  shop_id  item_id  item_price  item_cnt_month  \\\n",
      "0   02.01.2013          0       59    22154      999.00               1   \n",
      "1   03.01.2013          0       25     2552      899.00               1   \n",
      "3   06.01.2013          0       25     2554     1709.05               1   \n",
      "4   15.01.2013          0       25     2555     1099.00               1   \n",
      "5   10.01.2013          0       25     2564      349.00               1   \n",
      "6   02.01.2013          0       25     2565      549.00               1   \n",
      "7   04.01.2013          0       25     2572      239.00               1   \n",
      "8   11.01.2013          0       25     2572      299.00               1   \n",
      "9   03.01.2013          0       25     2573      299.00               3   \n",
      "10  03.01.2013          0       25     2574      399.00               2   \n",
      "11  05.01.2013          0       25     2574      399.00               1   \n",
      "12  07.01.2013          0       25     2574      399.00               1   \n",
      "13  08.01.2013          0       25     2574      399.00               2   \n",
      "14  10.01.2013          0       25     2574      399.00               1   \n",
      "15  11.01.2013          0       25     2574      399.00               2   \n",
      "16  13.01.2013          0       25     2574      399.00               1   \n",
      "17  16.01.2013          0       25     2574      399.00               1   \n",
      "18  26.01.2013          0       25     2574      399.00               1   \n",
      "19  27.01.2013          0       25     2574      399.00               1   \n",
      "20  09.01.2013          0       25     2593      279.00               1   \n",
      "\n",
      "                                            item_name  category_id  \\\n",
      "0                                     SCENE 2012 (BD)           37   \n",
      "1              DEEP PURPLE The House Of Blue Light LP           58   \n",
      "3              DEEP PURPLE Who Do You Think We Are LP           58   \n",
      "4       DEEP PURPLE 30 Very Best Of 2CD (Businesses).           56   \n",
      "5   DEEP PURPLE Perihelion: Live In Concert DVD (C...           59   \n",
      "6                   DEEP PURPLE Stormbringer (firms).           56   \n",
      "7                               DEFTONES Koi No Yokan           55   \n",
      "8                               DEFTONES Koi No Yokan           55   \n",
      "9                            DEL REY LANA Born To Die           55   \n",
      "10  DEL REY LANA Born To Die The Paradise Edition 2CD           55   \n",
      "11  DEL REY LANA Born To Die The Paradise Edition 2CD           55   \n",
      "12  DEL REY LANA Born To Die The Paradise Edition 2CD           55   \n",
      "13  DEL REY LANA Born To Die The Paradise Edition 2CD           55   \n",
      "14  DEL REY LANA Born To Die The Paradise Edition 2CD           55   \n",
      "15  DEL REY LANA Born To Die The Paradise Edition 2CD           55   \n",
      "16  DEL REY LANA Born To Die The Paradise Edition 2CD           55   \n",
      "17  DEL REY LANA Born To Die The Paradise Edition 2CD           55   \n",
      "18  DEL REY LANA Born To Die The Paradise Edition 2CD           55   \n",
      "19  DEL REY LANA Born To Die The Paradise Edition 2CD           55   \n",
      "20                  DEPECHE MODE Music For The Masses           55   \n",
      "\n",
      "                     item_category_name                shop_name  revenue  \\\n",
      "0                      Cinema - Blu-Ray   Yaroslavl TC\" Altair \"   999.00   \n",
      "1                         Music - Vinyl     Moscow TEC\" Atrium \"   899.00   \n",
      "3                         Music - Vinyl     Moscow TEC\" Atrium \"  1709.05   \n",
      "4    Music - CD of corporate production     Moscow TEC\" Atrium \"  1099.00   \n",
      "5                   Music - Music video     Moscow TEC\" Atrium \"   349.00   \n",
      "6    Music - CD of corporate production     Moscow TEC\" Atrium \"   549.00   \n",
      "7        Music - CD of local production     Moscow TEC\" Atrium \"   239.00   \n",
      "8        Music - CD of local production     Moscow TEC\" Atrium \"   299.00   \n",
      "9        Music - CD of local production     Moscow TEC\" Atrium \"   897.00   \n",
      "10       Music - CD of local production     Moscow TEC\" Atrium \"   798.00   \n",
      "11       Music - CD of local production     Moscow TEC\" Atrium \"   399.00   \n",
      "12       Music - CD of local production     Moscow TEC\" Atrium \"   399.00   \n",
      "13       Music - CD of local production     Moscow TEC\" Atrium \"   798.00   \n",
      "14       Music - CD of local production     Moscow TEC\" Atrium \"   399.00   \n",
      "15       Music - CD of local production     Moscow TEC\" Atrium \"   798.00   \n",
      "16       Music - CD of local production     Moscow TEC\" Atrium \"   399.00   \n",
      "17       Music - CD of local production     Moscow TEC\" Atrium \"   399.00   \n",
      "18       Music - CD of local production     Moscow TEC\" Atrium \"   399.00   \n",
      "19       Music - CD of local production     Moscow TEC\" Atrium \"   399.00   \n",
      "20       Music - CD of local production     Moscow TEC\" Atrium \"   279.00   \n",
      "\n",
      "   date_num  \n",
      "0        02  \n",
      "1        03  \n",
      "3        06  \n",
      "4        15  \n",
      "5        10  \n",
      "6        02  \n",
      "7        04  \n",
      "8        11  \n",
      "9        03  \n",
      "10       03  \n",
      "11       05  \n",
      "12       07  \n",
      "13       08  \n",
      "14       10  \n",
      "15       11  \n",
      "16       13  \n",
      "17       16  \n",
      "18       26  \n",
      "19       27  \n",
      "20       09  \n",
      "(2928485, 12)\n"
     ]
    }
   ],
   "source": [
    "print(\"\\n\\nHead of final_dataset:\\n\")\n",
    "print(final_dataset.head(20))\n",
    "print(final_dataset.shape)"
   ]
  },
  {
   "cell_type": "code",
   "execution_count": 270,
   "metadata": {},
   "outputs": [],
   "source": [
    "#data integration\n",
    "\n",
    "#creates a new column called year num\n",
    "final_dataset['year_num'] = final_dataset['date'].str[6:]"
   ]
  },
  {
   "cell_type": "code",
   "execution_count": 271,
   "metadata": {},
   "outputs": [
    {
     "name": "stdout",
     "output_type": "stream",
     "text": [
      "\n",
      "\n",
      "Head of final_dataset:\n",
      "\n",
      "          date  month_num  shop_id  item_id  item_price  item_cnt_month  \\\n",
      "0   02.01.2013          0       59    22154      999.00               1   \n",
      "1   03.01.2013          0       25     2552      899.00               1   \n",
      "3   06.01.2013          0       25     2554     1709.05               1   \n",
      "4   15.01.2013          0       25     2555     1099.00               1   \n",
      "5   10.01.2013          0       25     2564      349.00               1   \n",
      "6   02.01.2013          0       25     2565      549.00               1   \n",
      "7   04.01.2013          0       25     2572      239.00               1   \n",
      "8   11.01.2013          0       25     2572      299.00               1   \n",
      "9   03.01.2013          0       25     2573      299.00               3   \n",
      "10  03.01.2013          0       25     2574      399.00               2   \n",
      "11  05.01.2013          0       25     2574      399.00               1   \n",
      "12  07.01.2013          0       25     2574      399.00               1   \n",
      "13  08.01.2013          0       25     2574      399.00               2   \n",
      "14  10.01.2013          0       25     2574      399.00               1   \n",
      "15  11.01.2013          0       25     2574      399.00               2   \n",
      "16  13.01.2013          0       25     2574      399.00               1   \n",
      "17  16.01.2013          0       25     2574      399.00               1   \n",
      "18  26.01.2013          0       25     2574      399.00               1   \n",
      "19  27.01.2013          0       25     2574      399.00               1   \n",
      "20  09.01.2013          0       25     2593      279.00               1   \n",
      "\n",
      "                                            item_name  category_id  \\\n",
      "0                                     SCENE 2012 (BD)           37   \n",
      "1              DEEP PURPLE The House Of Blue Light LP           58   \n",
      "3              DEEP PURPLE Who Do You Think We Are LP           58   \n",
      "4       DEEP PURPLE 30 Very Best Of 2CD (Businesses).           56   \n",
      "5   DEEP PURPLE Perihelion: Live In Concert DVD (C...           59   \n",
      "6                   DEEP PURPLE Stormbringer (firms).           56   \n",
      "7                               DEFTONES Koi No Yokan           55   \n",
      "8                               DEFTONES Koi No Yokan           55   \n",
      "9                            DEL REY LANA Born To Die           55   \n",
      "10  DEL REY LANA Born To Die The Paradise Edition 2CD           55   \n",
      "11  DEL REY LANA Born To Die The Paradise Edition 2CD           55   \n",
      "12  DEL REY LANA Born To Die The Paradise Edition 2CD           55   \n",
      "13  DEL REY LANA Born To Die The Paradise Edition 2CD           55   \n",
      "14  DEL REY LANA Born To Die The Paradise Edition 2CD           55   \n",
      "15  DEL REY LANA Born To Die The Paradise Edition 2CD           55   \n",
      "16  DEL REY LANA Born To Die The Paradise Edition 2CD           55   \n",
      "17  DEL REY LANA Born To Die The Paradise Edition 2CD           55   \n",
      "18  DEL REY LANA Born To Die The Paradise Edition 2CD           55   \n",
      "19  DEL REY LANA Born To Die The Paradise Edition 2CD           55   \n",
      "20                  DEPECHE MODE Music For The Masses           55   \n",
      "\n",
      "                     item_category_name                shop_name  revenue  \\\n",
      "0                      Cinema - Blu-Ray   Yaroslavl TC\" Altair \"   999.00   \n",
      "1                         Music - Vinyl     Moscow TEC\" Atrium \"   899.00   \n",
      "3                         Music - Vinyl     Moscow TEC\" Atrium \"  1709.05   \n",
      "4    Music - CD of corporate production     Moscow TEC\" Atrium \"  1099.00   \n",
      "5                   Music - Music video     Moscow TEC\" Atrium \"   349.00   \n",
      "6    Music - CD of corporate production     Moscow TEC\" Atrium \"   549.00   \n",
      "7        Music - CD of local production     Moscow TEC\" Atrium \"   239.00   \n",
      "8        Music - CD of local production     Moscow TEC\" Atrium \"   299.00   \n",
      "9        Music - CD of local production     Moscow TEC\" Atrium \"   897.00   \n",
      "10       Music - CD of local production     Moscow TEC\" Atrium \"   798.00   \n",
      "11       Music - CD of local production     Moscow TEC\" Atrium \"   399.00   \n",
      "12       Music - CD of local production     Moscow TEC\" Atrium \"   399.00   \n",
      "13       Music - CD of local production     Moscow TEC\" Atrium \"   798.00   \n",
      "14       Music - CD of local production     Moscow TEC\" Atrium \"   399.00   \n",
      "15       Music - CD of local production     Moscow TEC\" Atrium \"   798.00   \n",
      "16       Music - CD of local production     Moscow TEC\" Atrium \"   399.00   \n",
      "17       Music - CD of local production     Moscow TEC\" Atrium \"   399.00   \n",
      "18       Music - CD of local production     Moscow TEC\" Atrium \"   399.00   \n",
      "19       Music - CD of local production     Moscow TEC\" Atrium \"   399.00   \n",
      "20       Music - CD of local production     Moscow TEC\" Atrium \"   279.00   \n",
      "\n",
      "   date_num year_num  \n",
      "0        02     2013  \n",
      "1        03     2013  \n",
      "3        06     2013  \n",
      "4        15     2013  \n",
      "5        10     2013  \n",
      "6        02     2013  \n",
      "7        04     2013  \n",
      "8        11     2013  \n",
      "9        03     2013  \n",
      "10       03     2013  \n",
      "11       05     2013  \n",
      "12       07     2013  \n",
      "13       08     2013  \n",
      "14       10     2013  \n",
      "15       11     2013  \n",
      "16       13     2013  \n",
      "17       16     2013  \n",
      "18       26     2013  \n",
      "19       27     2013  \n",
      "20       09     2013  \n",
      "(2928485, 13)\n"
     ]
    }
   ],
   "source": [
    "print(\"\\n\\nHead of final_dataset:\\n\")\n",
    "print(final_dataset.head(20))\n",
    "print(final_dataset.shape)"
   ]
  },
  {
   "cell_type": "code",
   "execution_count": 272,
   "metadata": {},
   "outputs": [
    {
     "name": "stdout",
     "output_type": "stream",
     "text": [
      "(2928485, 13)\n",
      "<class 'pandas.core.frame.DataFrame'>\n",
      "Index: 2928485 entries, 0 to 2935848\n",
      "Data columns (total 13 columns):\n",
      " #   Column              Dtype  \n",
      "---  ------              -----  \n",
      " 0   date                object \n",
      " 1   month_num           int64  \n",
      " 2   shop_id             int64  \n",
      " 3   item_id             int64  \n",
      " 4   item_price          float64\n",
      " 5   item_cnt_month      int64  \n",
      " 6   item_name           object \n",
      " 7   category_id         int64  \n",
      " 8   item_category_name  object \n",
      " 9   shop_name           object \n",
      " 10  revenue             float64\n",
      " 11  date_num            object \n",
      " 12  year_num            object \n",
      "dtypes: float64(2), int64(5), object(6)\n",
      "memory usage: 312.8+ MB\n",
      "None\n"
     ]
    }
   ],
   "source": [
    "print(final_dataset.shape)\n",
    "print(final_dataset.info())"
   ]
  },
  {
   "cell_type": "code",
   "execution_count": 273,
   "metadata": {},
   "outputs": [
    {
     "name": "stdout",
     "output_type": "stream",
     "text": [
      "(2928485, 13)\n",
      "<class 'pandas.core.frame.DataFrame'>\n",
      "Index: 2928485 entries, 0 to 2935848\n",
      "Data columns (total 13 columns):\n",
      " #   Column              Dtype  \n",
      "---  ------              -----  \n",
      " 0   date                object \n",
      " 1   date_num            object \n",
      " 2   year_num            object \n",
      " 3   month_num           int64  \n",
      " 4   shop_id             int64  \n",
      " 5   shop_name           object \n",
      " 6   item_id             int64  \n",
      " 7   item_name           object \n",
      " 8   category_id         int64  \n",
      " 9   item_category_name  object \n",
      " 10  item_price          float64\n",
      " 11  item_cnt_month      int64  \n",
      " 12  revenue             float64\n",
      "dtypes: float64(2), int64(5), object(6)\n",
      "memory usage: 312.8+ MB\n",
      "None\n"
     ]
    }
   ],
   "source": [
    "# rearrange the columns\n",
    "final_dataset = final_dataset[['date', 'date_num', 'year_num', 'month_num', 'shop_id', 'shop_name', 'item_id', 'item_name', 'category_id', 'item_category_name', 'item_price', 'item_cnt_month', 'revenue']]\n",
    "\n",
    "print(final_dataset.shape)\n",
    "print(final_dataset.info())"
   ]
  },
  {
   "cell_type": "code",
   "execution_count": 274,
   "metadata": {},
   "outputs": [],
   "source": [
    "#since we already handled the missing and null values in the data set there is no need for imputation"
   ]
  },
  {
   "cell_type": "code",
   "execution_count": 275,
   "metadata": {},
   "outputs": [
    {
     "name": "stdout",
     "output_type": "stream",
     "text": [
      "\n",
      "\n",
      "Descriptive statistics of final_dataset:\n",
      "\n",
      "          month_num       shop_id       item_id   category_id    item_price  \\\n",
      "count  2.928485e+06  2.928485e+06  2.928485e+06  2.928485e+06  2.928485e+06   \n",
      "mean   1.456977e+01  3.300294e+01  1.020029e+04  4.001637e+01  8.893621e+02   \n",
      "std    9.422957e+00  1.622543e+01  6.324392e+03  1.709811e+01  1.718155e+03   \n",
      "min    0.000000e+00  0.000000e+00  0.000000e+00  0.000000e+00  7.000000e-02   \n",
      "25%    7.000000e+00  2.200000e+01  4.477000e+03  2.800000e+01  2.490000e+02   \n",
      "50%    1.400000e+01  3.100000e+01  9.355000e+03  4.000000e+01  3.990000e+02   \n",
      "75%    2.300000e+01  4.700000e+01  1.569100e+04  5.500000e+01  9.990000e+02   \n",
      "max    3.300000e+01  5.900000e+01  2.216900e+04  8.300000e+01  5.920000e+04   \n",
      "\n",
      "       item_cnt_month       revenue  \n",
      "count    2.928485e+06  2.928485e+06  \n",
      "mean     1.248338e+00  1.164269e+03  \n",
      "std      2.619589e+00  5.684852e+03  \n",
      "min      1.000000e+00  7.000000e-02  \n",
      "25%      1.000000e+00  2.490000e+02  \n",
      "50%      1.000000e+00  4.490000e+02  \n",
      "75%      1.000000e+00  1.090000e+03  \n",
      "max      2.169000e+03  1.829990e+06  \n"
     ]
    }
   ],
   "source": [
    "#data profiling\n",
    "\n",
    "#descriptive statistics\n",
    "print(\"\\n\\nDescriptive statistics of final_dataset:\\n\")\n",
    "print(final_dataset.describe())"
   ]
  },
  {
   "cell_type": "code",
   "execution_count": 276,
   "metadata": {},
   "outputs": [
    {
     "name": "stdout",
     "output_type": "stream",
     "text": [
      "\n",
      "\n",
      "Head of final_dataset:\n",
      "\n",
      "          date date_num year_num  month_num  shop_id                shop_name  \\\n",
      "0   02.01.2013       02     2013          0       59   Yaroslavl TC\" Altair \"   \n",
      "1   03.01.2013       03     2013          0       25     Moscow TEC\" Atrium \"   \n",
      "3   06.01.2013       06     2013          0       25     Moscow TEC\" Atrium \"   \n",
      "4   15.01.2013       15     2013          0       25     Moscow TEC\" Atrium \"   \n",
      "5   10.01.2013       10     2013          0       25     Moscow TEC\" Atrium \"   \n",
      "6   02.01.2013       02     2013          0       25     Moscow TEC\" Atrium \"   \n",
      "7   04.01.2013       04     2013          0       25     Moscow TEC\" Atrium \"   \n",
      "8   11.01.2013       11     2013          0       25     Moscow TEC\" Atrium \"   \n",
      "9   03.01.2013       03     2013          0       25     Moscow TEC\" Atrium \"   \n",
      "10  03.01.2013       03     2013          0       25     Moscow TEC\" Atrium \"   \n",
      "11  05.01.2013       05     2013          0       25     Moscow TEC\" Atrium \"   \n",
      "12  07.01.2013       07     2013          0       25     Moscow TEC\" Atrium \"   \n",
      "13  08.01.2013       08     2013          0       25     Moscow TEC\" Atrium \"   \n",
      "14  10.01.2013       10     2013          0       25     Moscow TEC\" Atrium \"   \n",
      "15  11.01.2013       11     2013          0       25     Moscow TEC\" Atrium \"   \n",
      "16  13.01.2013       13     2013          0       25     Moscow TEC\" Atrium \"   \n",
      "17  16.01.2013       16     2013          0       25     Moscow TEC\" Atrium \"   \n",
      "18  26.01.2013       26     2013          0       25     Moscow TEC\" Atrium \"   \n",
      "19  27.01.2013       27     2013          0       25     Moscow TEC\" Atrium \"   \n",
      "20  09.01.2013       09     2013          0       25     Moscow TEC\" Atrium \"   \n",
      "\n",
      "    item_id                                          item_name  category_id  \\\n",
      "0     22154                                    SCENE 2012 (BD)           37   \n",
      "1      2552             DEEP PURPLE The House Of Blue Light LP           58   \n",
      "3      2554             DEEP PURPLE Who Do You Think We Are LP           58   \n",
      "4      2555      DEEP PURPLE 30 Very Best Of 2CD (Businesses).           56   \n",
      "5      2564  DEEP PURPLE Perihelion: Live In Concert DVD (C...           59   \n",
      "6      2565                  DEEP PURPLE Stormbringer (firms).           56   \n",
      "7      2572                              DEFTONES Koi No Yokan           55   \n",
      "8      2572                              DEFTONES Koi No Yokan           55   \n",
      "9      2573                           DEL REY LANA Born To Die           55   \n",
      "10     2574  DEL REY LANA Born To Die The Paradise Edition 2CD           55   \n",
      "11     2574  DEL REY LANA Born To Die The Paradise Edition 2CD           55   \n",
      "12     2574  DEL REY LANA Born To Die The Paradise Edition 2CD           55   \n",
      "13     2574  DEL REY LANA Born To Die The Paradise Edition 2CD           55   \n",
      "14     2574  DEL REY LANA Born To Die The Paradise Edition 2CD           55   \n",
      "15     2574  DEL REY LANA Born To Die The Paradise Edition 2CD           55   \n",
      "16     2574  DEL REY LANA Born To Die The Paradise Edition 2CD           55   \n",
      "17     2574  DEL REY LANA Born To Die The Paradise Edition 2CD           55   \n",
      "18     2574  DEL REY LANA Born To Die The Paradise Edition 2CD           55   \n",
      "19     2574  DEL REY LANA Born To Die The Paradise Edition 2CD           55   \n",
      "20     2593                  DEPECHE MODE Music For The Masses           55   \n",
      "\n",
      "                     item_category_name  item_price  item_cnt_month  revenue  \\\n",
      "0                      Cinema - Blu-Ray      999.00               1   999.00   \n",
      "1                         Music - Vinyl      899.00               1   899.00   \n",
      "3                         Music - Vinyl     1709.05               1  1709.05   \n",
      "4    Music - CD of corporate production     1099.00               1  1099.00   \n",
      "5                   Music - Music video      349.00               1   349.00   \n",
      "6    Music - CD of corporate production      549.00               1   549.00   \n",
      "7        Music - CD of local production      239.00               1   239.00   \n",
      "8        Music - CD of local production      299.00               1   299.00   \n",
      "9        Music - CD of local production      299.00               3   897.00   \n",
      "10       Music - CD of local production      399.00               2   798.00   \n",
      "11       Music - CD of local production      399.00               1   399.00   \n",
      "12       Music - CD of local production      399.00               1   399.00   \n",
      "13       Music - CD of local production      399.00               2   798.00   \n",
      "14       Music - CD of local production      399.00               1   399.00   \n",
      "15       Music - CD of local production      399.00               2   798.00   \n",
      "16       Music - CD of local production      399.00               1   399.00   \n",
      "17       Music - CD of local production      399.00               1   399.00   \n",
      "18       Music - CD of local production      399.00               1   399.00   \n",
      "19       Music - CD of local production      399.00               1   399.00   \n",
      "20       Music - CD of local production      279.00               1   279.00   \n",
      "\n",
      "   month_name  \n",
      "0     January  \n",
      "1     January  \n",
      "3     January  \n",
      "4     January  \n",
      "5     January  \n",
      "6     January  \n",
      "7     January  \n",
      "8     January  \n",
      "9     January  \n",
      "10    January  \n",
      "11    January  \n",
      "12    January  \n",
      "13    January  \n",
      "14    January  \n",
      "15    January  \n",
      "16    January  \n",
      "17    January  \n",
      "18    January  \n",
      "19    January  \n",
      "20    January  \n",
      "(2928485, 14)\n"
     ]
    }
   ],
   "source": [
    "#data enrichment\n",
    "\n",
    "#creates a new column called month name\n",
    "final_dataset['month_name'] = final_dataset['month_num'].replace({0: 'January', 1: 'February', 2: 'March', 3: 'April', 4: 'May', 5: 'June', 6: 'July', 7: 'August', 8: 'September', 9: 'October', 10: 'November', 11: 'December'})\n",
    "\n",
    "print(\"\\n\\nHead of final_dataset:\\n\")\n",
    "print(final_dataset.head(20))\n",
    "print(final_dataset.shape)"
   ]
  },
  {
   "cell_type": "code",
   "execution_count": 277,
   "metadata": {},
   "outputs": [
    {
     "name": "stdout",
     "output_type": "stream",
     "text": [
      "\n",
      "\n",
      "Head of final_dataset:\n",
      "\n",
      "          date date_num year_num  shop_id                shop_name  item_id  \\\n",
      "0   02.01.2013       02     2013       59   Yaroslavl TC\" Altair \"    22154   \n",
      "1   03.01.2013       03     2013       25     Moscow TEC\" Atrium \"     2552   \n",
      "3   06.01.2013       06     2013       25     Moscow TEC\" Atrium \"     2554   \n",
      "4   15.01.2013       15     2013       25     Moscow TEC\" Atrium \"     2555   \n",
      "5   10.01.2013       10     2013       25     Moscow TEC\" Atrium \"     2564   \n",
      "6   02.01.2013       02     2013       25     Moscow TEC\" Atrium \"     2565   \n",
      "7   04.01.2013       04     2013       25     Moscow TEC\" Atrium \"     2572   \n",
      "8   11.01.2013       11     2013       25     Moscow TEC\" Atrium \"     2572   \n",
      "9   03.01.2013       03     2013       25     Moscow TEC\" Atrium \"     2573   \n",
      "10  03.01.2013       03     2013       25     Moscow TEC\" Atrium \"     2574   \n",
      "11  05.01.2013       05     2013       25     Moscow TEC\" Atrium \"     2574   \n",
      "12  07.01.2013       07     2013       25     Moscow TEC\" Atrium \"     2574   \n",
      "13  08.01.2013       08     2013       25     Moscow TEC\" Atrium \"     2574   \n",
      "14  10.01.2013       10     2013       25     Moscow TEC\" Atrium \"     2574   \n",
      "15  11.01.2013       11     2013       25     Moscow TEC\" Atrium \"     2574   \n",
      "16  13.01.2013       13     2013       25     Moscow TEC\" Atrium \"     2574   \n",
      "17  16.01.2013       16     2013       25     Moscow TEC\" Atrium \"     2574   \n",
      "18  26.01.2013       26     2013       25     Moscow TEC\" Atrium \"     2574   \n",
      "19  27.01.2013       27     2013       25     Moscow TEC\" Atrium \"     2574   \n",
      "20  09.01.2013       09     2013       25     Moscow TEC\" Atrium \"     2593   \n",
      "\n",
      "                                            item_name  category_id  \\\n",
      "0                                     SCENE 2012 (BD)           37   \n",
      "1              DEEP PURPLE The House Of Blue Light LP           58   \n",
      "3              DEEP PURPLE Who Do You Think We Are LP           58   \n",
      "4       DEEP PURPLE 30 Very Best Of 2CD (Businesses).           56   \n",
      "5   DEEP PURPLE Perihelion: Live In Concert DVD (C...           59   \n",
      "6                   DEEP PURPLE Stormbringer (firms).           56   \n",
      "7                               DEFTONES Koi No Yokan           55   \n",
      "8                               DEFTONES Koi No Yokan           55   \n",
      "9                            DEL REY LANA Born To Die           55   \n",
      "10  DEL REY LANA Born To Die The Paradise Edition 2CD           55   \n",
      "11  DEL REY LANA Born To Die The Paradise Edition 2CD           55   \n",
      "12  DEL REY LANA Born To Die The Paradise Edition 2CD           55   \n",
      "13  DEL REY LANA Born To Die The Paradise Edition 2CD           55   \n",
      "14  DEL REY LANA Born To Die The Paradise Edition 2CD           55   \n",
      "15  DEL REY LANA Born To Die The Paradise Edition 2CD           55   \n",
      "16  DEL REY LANA Born To Die The Paradise Edition 2CD           55   \n",
      "17  DEL REY LANA Born To Die The Paradise Edition 2CD           55   \n",
      "18  DEL REY LANA Born To Die The Paradise Edition 2CD           55   \n",
      "19  DEL REY LANA Born To Die The Paradise Edition 2CD           55   \n",
      "20                  DEPECHE MODE Music For The Masses           55   \n",
      "\n",
      "                     item_category_name  item_price  item_cnt_month  revenue  \\\n",
      "0                      Cinema - Blu-Ray      999.00               1   999.00   \n",
      "1                         Music - Vinyl      899.00               1   899.00   \n",
      "3                         Music - Vinyl     1709.05               1  1709.05   \n",
      "4    Music - CD of corporate production     1099.00               1  1099.00   \n",
      "5                   Music - Music video      349.00               1   349.00   \n",
      "6    Music - CD of corporate production      549.00               1   549.00   \n",
      "7        Music - CD of local production      239.00               1   239.00   \n",
      "8        Music - CD of local production      299.00               1   299.00   \n",
      "9        Music - CD of local production      299.00               3   897.00   \n",
      "10       Music - CD of local production      399.00               2   798.00   \n",
      "11       Music - CD of local production      399.00               1   399.00   \n",
      "12       Music - CD of local production      399.00               1   399.00   \n",
      "13       Music - CD of local production      399.00               2   798.00   \n",
      "14       Music - CD of local production      399.00               1   399.00   \n",
      "15       Music - CD of local production      399.00               2   798.00   \n",
      "16       Music - CD of local production      399.00               1   399.00   \n",
      "17       Music - CD of local production      399.00               1   399.00   \n",
      "18       Music - CD of local production      399.00               1   399.00   \n",
      "19       Music - CD of local production      399.00               1   399.00   \n",
      "20       Music - CD of local production      279.00               1   279.00   \n",
      "\n",
      "   month_name  \n",
      "0     January  \n",
      "1     January  \n",
      "3     January  \n",
      "4     January  \n",
      "5     January  \n",
      "6     January  \n",
      "7     January  \n",
      "8     January  \n",
      "9     January  \n",
      "10    January  \n",
      "11    January  \n",
      "12    January  \n",
      "13    January  \n",
      "14    January  \n",
      "15    January  \n",
      "16    January  \n",
      "17    January  \n",
      "18    January  \n",
      "19    January  \n",
      "20    January  \n",
      "(2928485, 13)\n"
     ]
    }
   ],
   "source": [
    "#removes month_num column\n",
    "\n",
    "final_dataset.drop(columns=['month_num'], inplace=True)\n",
    "\n",
    "print(\"\\n\\nHead of final_dataset:\\n\")\n",
    "print(final_dataset.head(20))\n",
    "print(final_dataset.shape)"
   ]
  },
  {
   "cell_type": "code",
   "execution_count": 278,
   "metadata": {},
   "outputs": [
    {
     "name": "stdout",
     "output_type": "stream",
     "text": [
      "\n",
      "\n",
      "Head of final_dataset:\n",
      "\n",
      "          date date_num month_name year_num  shop_id                shop_name  \\\n",
      "0   02.01.2013       02    January     2013       59   Yaroslavl TC\" Altair \"   \n",
      "1   03.01.2013       03    January     2013       25     Moscow TEC\" Atrium \"   \n",
      "3   06.01.2013       06    January     2013       25     Moscow TEC\" Atrium \"   \n",
      "4   15.01.2013       15    January     2013       25     Moscow TEC\" Atrium \"   \n",
      "5   10.01.2013       10    January     2013       25     Moscow TEC\" Atrium \"   \n",
      "6   02.01.2013       02    January     2013       25     Moscow TEC\" Atrium \"   \n",
      "7   04.01.2013       04    January     2013       25     Moscow TEC\" Atrium \"   \n",
      "8   11.01.2013       11    January     2013       25     Moscow TEC\" Atrium \"   \n",
      "9   03.01.2013       03    January     2013       25     Moscow TEC\" Atrium \"   \n",
      "10  03.01.2013       03    January     2013       25     Moscow TEC\" Atrium \"   \n",
      "11  05.01.2013       05    January     2013       25     Moscow TEC\" Atrium \"   \n",
      "12  07.01.2013       07    January     2013       25     Moscow TEC\" Atrium \"   \n",
      "13  08.01.2013       08    January     2013       25     Moscow TEC\" Atrium \"   \n",
      "14  10.01.2013       10    January     2013       25     Moscow TEC\" Atrium \"   \n",
      "15  11.01.2013       11    January     2013       25     Moscow TEC\" Atrium \"   \n",
      "16  13.01.2013       13    January     2013       25     Moscow TEC\" Atrium \"   \n",
      "17  16.01.2013       16    January     2013       25     Moscow TEC\" Atrium \"   \n",
      "18  26.01.2013       26    January     2013       25     Moscow TEC\" Atrium \"   \n",
      "19  27.01.2013       27    January     2013       25     Moscow TEC\" Atrium \"   \n",
      "20  09.01.2013       09    January     2013       25     Moscow TEC\" Atrium \"   \n",
      "\n",
      "    item_id                                          item_name  category_id  \\\n",
      "0     22154                                    SCENE 2012 (BD)           37   \n",
      "1      2552             DEEP PURPLE The House Of Blue Light LP           58   \n",
      "3      2554             DEEP PURPLE Who Do You Think We Are LP           58   \n",
      "4      2555      DEEP PURPLE 30 Very Best Of 2CD (Businesses).           56   \n",
      "5      2564  DEEP PURPLE Perihelion: Live In Concert DVD (C...           59   \n",
      "6      2565                  DEEP PURPLE Stormbringer (firms).           56   \n",
      "7      2572                              DEFTONES Koi No Yokan           55   \n",
      "8      2572                              DEFTONES Koi No Yokan           55   \n",
      "9      2573                           DEL REY LANA Born To Die           55   \n",
      "10     2574  DEL REY LANA Born To Die The Paradise Edition 2CD           55   \n",
      "11     2574  DEL REY LANA Born To Die The Paradise Edition 2CD           55   \n",
      "12     2574  DEL REY LANA Born To Die The Paradise Edition 2CD           55   \n",
      "13     2574  DEL REY LANA Born To Die The Paradise Edition 2CD           55   \n",
      "14     2574  DEL REY LANA Born To Die The Paradise Edition 2CD           55   \n",
      "15     2574  DEL REY LANA Born To Die The Paradise Edition 2CD           55   \n",
      "16     2574  DEL REY LANA Born To Die The Paradise Edition 2CD           55   \n",
      "17     2574  DEL REY LANA Born To Die The Paradise Edition 2CD           55   \n",
      "18     2574  DEL REY LANA Born To Die The Paradise Edition 2CD           55   \n",
      "19     2574  DEL REY LANA Born To Die The Paradise Edition 2CD           55   \n",
      "20     2593                  DEPECHE MODE Music For The Masses           55   \n",
      "\n",
      "                     item_category_name  item_price  item_cnt_month  revenue  \n",
      "0                      Cinema - Blu-Ray      999.00               1   999.00  \n",
      "1                         Music - Vinyl      899.00               1   899.00  \n",
      "3                         Music - Vinyl     1709.05               1  1709.05  \n",
      "4    Music - CD of corporate production     1099.00               1  1099.00  \n",
      "5                   Music - Music video      349.00               1   349.00  \n",
      "6    Music - CD of corporate production      549.00               1   549.00  \n",
      "7        Music - CD of local production      239.00               1   239.00  \n",
      "8        Music - CD of local production      299.00               1   299.00  \n",
      "9        Music - CD of local production      299.00               3   897.00  \n",
      "10       Music - CD of local production      399.00               2   798.00  \n",
      "11       Music - CD of local production      399.00               1   399.00  \n",
      "12       Music - CD of local production      399.00               1   399.00  \n",
      "13       Music - CD of local production      399.00               2   798.00  \n",
      "14       Music - CD of local production      399.00               1   399.00  \n",
      "15       Music - CD of local production      399.00               2   798.00  \n",
      "16       Music - CD of local production      399.00               1   399.00  \n",
      "17       Music - CD of local production      399.00               1   399.00  \n",
      "18       Music - CD of local production      399.00               1   399.00  \n",
      "19       Music - CD of local production      399.00               1   399.00  \n",
      "20       Music - CD of local production      279.00               1   279.00  \n",
      "(2928485, 13)\n"
     ]
    }
   ],
   "source": [
    "#rearange the columns\n",
    "\n",
    "final_dataset = final_dataset[['date', 'date_num', 'month_name', 'year_num', 'shop_id', 'shop_name', 'item_id', 'item_name', 'category_id', 'item_category_name', 'item_price', 'item_cnt_month', 'revenue']]\n",
    "\n",
    "print(\"\\n\\nHead of final_dataset:\\n\")\n",
    "print(final_dataset.head(20))\n",
    "print(final_dataset.shape)"
   ]
  },
  {
   "cell_type": "markdown",
   "metadata": {},
   "source": [
    "## Feature Engineering"
   ]
  }
 ],
 "metadata": {
  "kernelspec": {
   "display_name": "base",
   "language": "python",
   "name": "python3"
  },
  "language_info": {
   "codemirror_mode": {
    "name": "ipython",
    "version": 3
   },
   "file_extension": ".py",
   "mimetype": "text/x-python",
   "name": "python",
   "nbconvert_exporter": "python",
   "pygments_lexer": "ipython3",
   "version": "3.11.3"
  },
  "orig_nbformat": 4
 },
 "nbformat": 4,
 "nbformat_minor": 2
}
